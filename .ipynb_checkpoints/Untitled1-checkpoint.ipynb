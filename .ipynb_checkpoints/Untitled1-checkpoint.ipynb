{
 "cells": [
  {
   "cell_type": "code",
   "execution_count": 1,
   "id": "ea520360-6e53-4634-b397-f1426aa12d89",
   "metadata": {},
   "outputs": [],
   "source": [
    "%load_ext autoreload\n",
    "%autoreload 2\n",
    "\n",
    "from pathlib import Path\n",
    "\n",
    "import numpy as np\n",
    "import torch\n",
    "from ConnectFour import ConnectFour\n",
    "#from mcts.searcher.mcts import MCTS\n",
    "from mcts_custom.searcher.mcts_custom import MCTS_custom\n",
    "import CFNet"
   ]
  },
  {
   "cell_type": "code",
   "execution_count": 2,
   "id": "3fca9b7f-7d61-4214-bde3-8f8fc857d5ae",
   "metadata": {},
   "outputs": [
    {
     "name": "stdout",
     "output_type": "stream",
     "text": [
      "(3, 1)\n",
      "0.6129032258064516\n"
     ]
    }
   ],
   "source": [
    "initial_state = ConnectFour()\n",
    "TestNet = CFNet.CFNet()\n",
    "searcher = MCTS_custom(time_limit=1000, neural_net=TestNet)\n",
    "best_action, reward, all_values = searcher.search(initial_state=initial_state, return_probabilities=True)\n",
    "print(best_action)\n",
    "print(reward)"
   ]
  },
  {
   "cell_type": "code",
   "execution_count": 3,
   "id": "ec241d9e-c61b-48e8-ac83-6bb4ad0be3a7",
   "metadata": {},
   "outputs": [
    {
     "data": {
      "text/plain": [
       "[(<mcts_custom.searcher.mcts_custom.TreeNode at 0x7f7df5e5adc0>, -1.0),\n",
       " (<mcts_custom.searcher.mcts_custom.TreeNode at 0x7f7df5e5af10>, -1.0),\n",
       " (<mcts_custom.searcher.mcts_custom.TreeNode at 0x7f7df5e5aee0>, 0.0),\n",
       " (<mcts_custom.searcher.mcts_custom.TreeNode at 0x7f7df5e2b3d0>,\n",
       "  0.6129032258064516),\n",
       " (<mcts_custom.searcher.mcts_custom.TreeNode at 0x7f7df5e2b970>, 0.0),\n",
       " (<mcts_custom.searcher.mcts_custom.TreeNode at 0x7f7df5e2b940>, -1.0),\n",
       " (<mcts_custom.searcher.mcts_custom.TreeNode at 0x7f7df5e5af70>, -1.0)]"
      ]
     },
     "execution_count": 3,
     "metadata": {},
     "output_type": "execute_result"
    }
   ],
   "source": [
    "all_values"
   ]
  },
  {
   "cell_type": "code",
   "execution_count": 27,
   "id": "2a4a97c8-a125-4f39-b82c-4e0949001de2",
   "metadata": {},
   "outputs": [
    {
     "name": "stdout",
     "output_type": "stream",
     "text": [
      "(array([[0, 0, 0, 0, 0, 0, 0],\n",
      "       [0, 0, 0, 0, 0, 0, 0],\n",
      "       [0, 0, 0, 0, 0, 0, 0],\n",
      "       [0, 0, 0, 0, 0, 0, 0],\n",
      "       [0, 0, 0, 0, 0, 0, 0],\n",
      "       [0, 0, 0, 0, 0, 0, 0]]), 'Turn: Player 1')\n"
     ]
    }
   ],
   "source": [
    "print(initial_state)"
   ]
  },
  {
   "cell_type": "code",
   "execution_count": 28,
   "id": "3b1f805d-b7f0-4dfa-96c6-41ce32e1251c",
   "metadata": {},
   "outputs": [
    {
     "name": "stdout",
     "output_type": "stream",
     "text": [
      "isinstance(X, ConnectFour)\n",
      "tensor([[[0., 0., 0., 0., 0., 0., 0.],\n",
      "         [0., 0., 0., 0., 0., 0., 0.],\n",
      "         [0., 0., 0., 0., 0., 0., 0.],\n",
      "         [0., 0., 0., 0., 0., 0., 0.],\n",
      "         [0., 0., 0., 0., 0., 0., 0.],\n",
      "         [0., 0., 0., 0., 0., 0., 0.]],\n",
      "\n",
      "        [[1., 1., 1., 1., 1., 1., 1.],\n",
      "         [1., 1., 1., 1., 1., 1., 1.],\n",
      "         [1., 1., 1., 1., 1., 1., 1.],\n",
      "         [1., 1., 1., 1., 1., 1., 1.],\n",
      "         [1., 1., 1., 1., 1., 1., 1.],\n",
      "         [1., 1., 1., 1., 1., 1., 1.]]])\n"
     ]
    }
   ],
   "source": [
    "with torch.no_grad():\n",
    "    TestNet = CFNet.CFNet()\n",
    "    TestNet.eval();\n",
    "    estimation = TestNet(initial_state)"
   ]
  },
  {
   "cell_type": "code",
   "execution_count": 31,
   "id": "9efa74bf-2757-491a-9394-d4a8a68557f9",
   "metadata": {},
   "outputs": [
    {
     "data": {
      "text/plain": [
       "-0.05126851424574852"
      ]
     },
     "execution_count": 31,
     "metadata": {},
     "output_type": "execute_result"
    }
   ],
   "source": [
    "estimation['value'].item()"
   ]
  },
  {
   "cell_type": "code",
   "execution_count": 24,
   "id": "fdaf7012-abed-4b4c-b89b-327a65000ee9",
   "metadata": {},
   "outputs": [
    {
     "data": {
      "text/plain": [
       "array([0.1428942 , 0.14715682, 0.13663006, 0.14000586, 0.1309952 ,\n",
       "       0.14751084, 0.15480699], dtype=float32)"
      ]
     },
     "execution_count": 24,
     "metadata": {},
     "output_type": "execute_result"
    }
   ],
   "source": [
    "estimation['policy'].detach().numpy()[0]"
   ]
  },
  {
   "cell_type": "code",
   "execution_count": 16,
   "id": "fe39f4a9-7055-4ce0-8c02-1ea495d19889",
   "metadata": {},
   "outputs": [
    {
     "name": "stdout",
     "output_type": "stream",
     "text": [
      "tensor([ 0.1250,  0.4286,  0.2727, -0.5000, -0.2000, -0.2000,  0.5333])\n",
      "tensor([0.1429, 0.1936, 0.1656, 0.0765, 0.1032, 0.1032, 0.2149])\n"
     ]
    }
   ],
   "source": [
    "values = [value[1] for value in all_values]\n",
    "softmax = torch.nn.Softmax(dim=-1)\n",
    "input = torch.Tensor(values)\n",
    "print(input)\n",
    "output = softmax(input)\n",
    "print(output)"
   ]
  },
  {
   "cell_type": "code",
   "execution_count": 25,
   "id": "bb26533e-f55c-4764-9bf2-fd5fbdb0de61",
   "metadata": {},
   "outputs": [],
   "source": [
    "winning_move = ConnectFour.ConnectFour()\n",
    "for _ in range(3):\n",
    "    winning_move.make_move(3)\n",
    "    winning_move.make_move(0)"
   ]
  },
  {
   "cell_type": "code",
   "execution_count": 30,
   "id": "39ccfea5-f08f-43cd-888a-e6f8d59390e1",
   "metadata": {},
   "outputs": [],
   "source": [
    "searcher = MCTS_custom(time_limit=10000)\n",
    "best_action, reward, all_values = searcher.search(initial_state=winning_move, need_details=True, return_probabilities=True)"
   ]
  },
  {
   "cell_type": "code",
   "execution_count": 31,
   "id": "f70df62c-ff3e-4710-87be-9c538056e1a9",
   "metadata": {},
   "outputs": [
    {
     "name": "stdout",
     "output_type": "stream",
     "text": [
      "(3, 1)\n",
      "1.0\n"
     ]
    }
   ],
   "source": [
    "print(best_action)\n",
    "print(reward)"
   ]
  },
  {
   "cell_type": "code",
   "execution_count": 32,
   "id": "04cb192c-5ce3-4ec9-ae27-10814063278d",
   "metadata": {},
   "outputs": [
    {
     "name": "stdout",
     "output_type": "stream",
     "text": [
      "tensor([ 0.7412, -0.1250, -0.1250,  1.0000, -0.2000, -0.1250, -0.2000])\n",
      "tensor([0.2306, 0.0970, 0.0970, 0.2987, 0.0900, 0.0970, 0.0900])\n"
     ]
    }
   ],
   "source": [
    "values = [value[1] for value in all_values]\n",
    "softmax = torch.nn.Softmax(dim=0)\n",
    "input = torch.Tensor(values)\n",
    "print(input)\n",
    "output = softmax(input)\n",
    "print(output)"
   ]
  },
  {
   "cell_type": "code",
   "execution_count": null,
   "id": "8ad358c3-8a08-4672-ad7c-4e33bbdf0a4a",
   "metadata": {},
   "outputs": [],
   "source": []
  }
 ],
 "metadata": {
  "kernelspec": {
   "display_name": "env_master",
   "language": "python",
   "name": "env_master"
  },
  "language_info": {
   "codemirror_mode": {
    "name": "ipython",
    "version": 3
   },
   "file_extension": ".py",
   "mimetype": "text/x-python",
   "name": "python",
   "nbconvert_exporter": "python",
   "pygments_lexer": "ipython3",
   "version": "3.8.10"
  }
 },
 "nbformat": 4,
 "nbformat_minor": 5
}
