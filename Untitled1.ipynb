{
 "cells": [
  {
   "cell_type": "code",
   "id": "ea520360-6e53-4634-b397-f1426aa12d89",
   "metadata": {
    "ExecuteTime": {
     "end_time": "2025-05-07T18:33:32.956892Z",
     "start_time": "2025-05-07T18:33:27.437928Z"
    }
   },
   "source": [
    "%load_ext autoreload\n",
    "%autoreload 2\n",
    "\n",
    "from pathlib import Path\n",
    "\n",
    "import numpy as np\n",
    "import matplotlib.pyplot as plt\n",
    "import torch\n",
    "from ConnectFour import ConnectFour\n",
    "#from mcts.searcher.mcts import MCTS\n",
    "from mcts_custom.searcher.mcts_custom import MCTS_custom\n",
    "import CFNet\n",
    "import Selfplay"
   ],
   "outputs": [],
   "execution_count": 1
  },
  {
   "cell_type": "code",
   "id": "68c34c2f-c752-4bf6-87a5-736ee27548dc",
   "metadata": {
    "ExecuteTime": {
     "end_time": "2025-05-07T18:33:47.044211Z",
     "start_time": "2025-05-07T18:33:38.764547Z"
    }
   },
   "source": [
    "TestGame = Selfplay.Selfplay(num_iterations=10)"
   ],
   "outputs": [
    {
     "data": {
      "text/plain": [
       "<Figure size 420x360 with 1 Axes>"
      ],
      "image/png": "[encoded data removed]"
     },
     "metadata": {},
     "output_type": "display_data"
    },
    {
     "name": "stdout",
     "output_type": "stream",
     "text": [
      "Anzahl Kinder der root 6\n",
      "action (np.int64(1), 1) leads to \n",
      "TreeNode: {totalReward: 0, numVisits: 0, isTerminal: False, possibleActions: dict_keys([])}\n",
      "action (np.int64(2), 1) leads to \n",
      "TreeNode: {totalReward: 1.1457906365394592, numVisits: 22, isTerminal: False, possibleActions: dict_keys([(np.int64(1), -1), (np.int64(2), -1), (np.int64(3), -1), (np.int64(4), -1), (np.int64(5), -1), (np.int64(6), -1)])}\n",
      "action (np.int64(3), 1) leads to \n",
      "TreeNode: {totalReward: 1.0829317048192024, numVisits: 21, isTerminal: False, possibleActions: dict_keys([(np.int64(1), -1), (np.int64(2), -1), (np.int64(3), -1), (np.int64(4), -1), (np.int64(5), -1), (np.int64(6), -1)])}\n",
      "action (np.int64(4), 1) leads to \n",
      "TreeNode: {totalReward: 0.6358670964837074, numVisits: 16, isTerminal: False, possibleActions: dict_keys([(np.int64(1), -1), (np.int64(2), -1), (np.int64(3), -1), (np.int64(4), -1), (np.int64(5), -1), (np.int64(6), -1)])}\n",
      "action (np.int64(5), 1) leads to \n",
      "TreeNode: {totalReward: 1.2603868395090103, numVisits: 23, isTerminal: False, possibleActions: dict_keys([(np.int64(1), -1), (np.int64(2), -1), (np.int64(3), -1), (np.int64(4), -1), (np.int64(5), -1), (np.int64(6), -1)])}\n",
      "action (np.int64(6), 1) leads to \n",
      "TreeNode: {totalReward: 0.6499960049986839, numVisits: 17, isTerminal: False, possibleActions: dict_keys([(np.int64(1), -1), (np.int64(2), -1), (np.int64(3), -1), (np.int64(4), -1), (np.int64(5), -1), (np.int64(6), -1)])}\n",
      "TreeNode: {totalReward: -4.657373748719692, numVisits: 100, isTerminal: False, possibleActions: dict_keys([(np.int64(1), 1), (np.int64(2), 1), (np.int64(3), 1), (np.int64(4), 1), (np.int64(5), 1), (np.int64(6), 1)])}\n",
      "TreeNode: {totalReward: 0, numVisits: 0, isTerminal: False, possibleActions: dict_keys([])}\n"
     ]
    },
    {
     "ename": "ZeroDivisionError",
     "evalue": "division by zero",
     "output_type": "error",
     "traceback": [
      "\u001B[31m---------------------------------------------------------------------------\u001B[39m",
      "\u001B[31mZeroDivisionError\u001B[39m                         Traceback (most recent call last)",
      "\u001B[36mCell\u001B[39m\u001B[36m \u001B[39m\u001B[32mIn[2]\u001B[39m\u001B[32m, line 1\u001B[39m\n\u001B[32m----> \u001B[39m\u001B[32m1\u001B[39m TestGame = \u001B[43mSelfplay\u001B[49m\u001B[43m.\u001B[49m\u001B[43mSelfplay\u001B[49m\u001B[43m(\u001B[49m\u001B[43mnum_iterations\u001B[49m\u001B[43m=\u001B[49m\u001B[32;43m10\u001B[39;49m\u001B[43m)\u001B[49m\n",
      "\u001B[36mFile \u001B[39m\u001B[32m~/projects/ConnectFour/Selfplay.py:37\u001B[39m, in \u001B[36mSelfplay\u001B[39m\u001B[34m(num_iterations)\u001B[39m\n\u001B[32m     35\u001B[39m \u001B[38;5;28;01mwhile\u001B[39;00m \u001B[38;5;129;01mnot\u001B[39;00m current_state.is_terminal():\n\u001B[32m     36\u001B[39m     current_state.display_board()\n\u001B[32m---> \u001B[39m\u001B[32m37\u001B[39m     _, _, mcts_policy = \u001B[43msearcher\u001B[49m\u001B[43m.\u001B[49m\u001B[43msearch\u001B[49m\u001B[43m(\u001B[49m\u001B[43minitial_state\u001B[49m\u001B[43m=\u001B[49m\u001B[43mcurrent_state\u001B[49m\u001B[43m,\u001B[49m\u001B[43m \u001B[49m\u001B[43mreturn_probabilities\u001B[49m\u001B[43m=\u001B[49m\u001B[38;5;28;43;01mTrue\u001B[39;49;00m\u001B[43m)\u001B[49m\n\u001B[32m     39\u001B[39m     \u001B[38;5;66;03m# save state and policy\u001B[39;00m\n\u001B[32m     40\u001B[39m     game.append([deepcopy(current_state), mcts_policy])\n",
      "\u001B[36mFile \u001B[39m\u001B[32m~/projects/ConnectFour/.venv/lib/python3.12/site-packages/torch/utils/_contextlib.py:116\u001B[39m, in \u001B[36mcontext_decorator.<locals>.decorate_context\u001B[39m\u001B[34m(*args, **kwargs)\u001B[39m\n\u001B[32m    113\u001B[39m \u001B[38;5;129m@functools\u001B[39m.wraps(func)\n\u001B[32m    114\u001B[39m \u001B[38;5;28;01mdef\u001B[39;00m\u001B[38;5;250m \u001B[39m\u001B[34mdecorate_context\u001B[39m(*args, **kwargs):\n\u001B[32m    115\u001B[39m     \u001B[38;5;28;01mwith\u001B[39;00m ctx_factory():\n\u001B[32m--> \u001B[39m\u001B[32m116\u001B[39m         \u001B[38;5;28;01mreturn\u001B[39;00m \u001B[43mfunc\u001B[49m\u001B[43m(\u001B[49m\u001B[43m*\u001B[49m\u001B[43margs\u001B[49m\u001B[43m,\u001B[49m\u001B[43m \u001B[49m\u001B[43m*\u001B[49m\u001B[43m*\u001B[49m\u001B[43mkwargs\u001B[49m\u001B[43m)\u001B[49m\n",
      "\u001B[36mFile \u001B[39m\u001B[32m~/projects/ConnectFour/MCTS_custom/mcts_custom/searcher/mcts_custom.py:137\u001B[39m, in \u001B[36mMCTS_custom.search\u001B[39m\u001B[34m(self, initial_state, need_details, return_probabilities)\u001B[39m\n\u001B[32m    135\u001B[39m \u001B[38;5;28;01mif\u001B[39;00m return_probabilities:\n\u001B[32m    136\u001B[39m     child_values = \u001B[38;5;28mself\u001B[39m.get_policy_from_child_visits(temperature=\u001B[32m1\u001B[39m)\n\u001B[32m--> \u001B[39m\u001B[32m137\u001B[39m     \u001B[38;5;28;01mreturn\u001B[39;00m action, \u001B[43mbest_child\u001B[49m\u001B[43m.\u001B[49m\u001B[43mtotalReward\u001B[49m\u001B[43m \u001B[49m\u001B[43m/\u001B[49m\u001B[43m \u001B[49m\u001B[43mbest_child\u001B[49m\u001B[43m.\u001B[49m\u001B[43mnumVisits\u001B[49m, child_values\n\u001B[32m    138\u001B[39m \u001B[38;5;28;01mif\u001B[39;00m need_details:\n\u001B[32m    139\u001B[39m     \u001B[38;5;28;01mreturn\u001B[39;00m action, best_child.totalReward / best_child.numVisits\n",
      "\u001B[31mZeroDivisionError\u001B[39m: division by zero"
     ]
    }
   ],
   "execution_count": 2
  },
  {
   "cell_type": "code",
   "execution_count": 3,
   "id": "a78ede1f-32f0-4f92-8e05-0469521332c9",
   "metadata": {},
   "outputs": [],
   "source": [
    "train_data = []\n",
    "mcts_policies = []\n",
    "labels = []\n",
    "\n",
    "for i in range(3):\n",
    "    train_data.append(CFNet.state_to_tensor(TestGame[i][0]))\n",
    "    mcts_policies.append(TestGame[i][1])\n",
    "    labels.append(TestGame[i][2])"
   ]
  },
  {
   "cell_type": "code",
   "execution_count": null,
   "id": "5dddbbc7-1cf9-40e1-9c33-36c5ccc8fb9d",
   "metadata": {},
   "outputs": [],
   "source": [
    "train_data = []\n",
    "mcts_policies = []\n",
    "labels = []\n",
    "\n",
    "for i in range(num_iterations):\n",
    "    for j in range(3):\n",
    "        train_data.append(CFNet.state_to_tensor(TestGame[i][j][0]))\n",
    "        mcts_policies.append(TestGame[i][j][1])\n",
    "        labels.append(TestGame[i][j][2])"
   ]
  },
  {
   "cell_type": "code",
   "execution_count": 4,
   "id": "7016c121-d522-48bd-93ea-77c77f960b81",
   "metadata": {},
   "outputs": [],
   "source": [
    "labels = torch.Tensor(labels)\n",
    "mcts_policies = torch.Tensor(np.array(mcts_policies))"
   ]
  },
  {
   "cell_type": "code",
   "execution_count": 5,
   "id": "cfa60ea6-6dbc-422d-a131-f20f18af0049",
   "metadata": {},
   "outputs": [
    {
     "name": "stdout",
     "output_type": "stream",
     "text": [
      "tensor([-1.,  1., -1.])\n",
      "tensor([[0.1440, 0.1520, 0.1600, 0.1600, 0.1280, 0.1440, 0.1120],\n",
      "        [0.1389, 0.1556, 0.1667, 0.1611, 0.1222, 0.1389, 0.1167],\n",
      "        [0.1389, 0.1500, 0.1611, 0.1611, 0.1278, 0.1444, 0.1167]])\n"
     ]
    }
   ],
   "source": [
    "print(labels)\n",
    "print(mcts_policies)"
   ]
  },
  {
   "cell_type": "code",
   "execution_count": 6,
   "id": "6cea599d-c923-4443-9a68-14ce360932c6",
   "metadata": {
    "scrolled": true
   },
   "outputs": [],
   "source": [
    "train_data = torch.stack(train_data)"
   ]
  },
  {
   "cell_type": "code",
   "execution_count": 7,
   "id": "3fca9b7f-7d61-4214-bde3-8f8fc857d5ae",
   "metadata": {},
   "outputs": [],
   "source": [
    "TestNet = CFNet.CFNet()\n",
    "TestNet.train();"
   ]
  },
  {
   "cell_type": "code",
   "execution_count": 8,
   "id": "8badae59-24ae-45c4-95ef-d70fb6fe3737",
   "metadata": {},
   "outputs": [],
   "source": [
    "optimizer = torch.optim.SGD(\n",
    "    TestNet.parameters(), lr = 0.02, momentum=0.9, weight_decay=1e-5\n",
    "    )"
   ]
  },
  {
   "cell_type": "code",
   "execution_count": 9,
   "id": "f6f56338-e9af-45f7-a4f4-e4993d089d05",
   "metadata": {},
   "outputs": [],
   "source": [
    "optimizer.zero_grad()\n",
    "predictions = TestNet(train_data)"
   ]
  },
  {
   "cell_type": "code",
   "execution_count": 10,
   "id": "119ebeb8-4650-433e-b03a-7f8d3f114e86",
   "metadata": {},
   "outputs": [],
   "source": [
    "loss = TestNet.alphaloss(predictions, labels, mcts_policies)"
   ]
  },
  {
   "cell_type": "code",
   "execution_count": 11,
   "id": "6537fe90-08da-4bad-81d5-a533ec597d15",
   "metadata": {},
   "outputs": [],
   "source": [
    "loss.backward()"
   ]
  },
  {
   "cell_type": "code",
   "execution_count": 12,
   "id": "24e9c52d-4f68-4cc6-bf89-80fc7fccaa59",
   "metadata": {},
   "outputs": [],
   "source": [
    "optimizer.step()"
   ]
  },
  {
   "cell_type": "code",
   "execution_count": 14,
   "id": "1cd9edd1-cf44-4430-8563-c58941d38a46",
   "metadata": {},
   "outputs": [],
   "source": [
    "new_predictions = TestNet(train_data)"
   ]
  },
  {
   "cell_type": "code",
   "execution_count": 15,
   "id": "0a17cd98-7879-4093-a9c3-7b2f061f36e9",
   "metadata": {},
   "outputs": [
    {
     "data": {
      "text/plain": [
       "{'value': tensor([[ 0.0491],\n",
       "         [-0.0589],\n",
       "         [-0.4578]], grad_fn=<TanhBackward0>),\n",
       " 'policy': tensor([[0.1906, 0.1152, 0.1271, 0.1209, 0.1389, 0.2050, 0.1024],\n",
       "         [0.1396, 0.1219, 0.1154, 0.1616, 0.1436, 0.1979, 0.1200],\n",
       "         [0.1029, 0.1417, 0.1581, 0.1338, 0.1405, 0.2221, 0.1009]],\n",
       "        grad_fn=<ViewBackward0>)}"
      ]
     },
     "execution_count": 15,
     "metadata": {},
     "output_type": "execute_result"
    }
   ],
   "source": [
    "new_predictions"
   ]
  },
  {
   "cell_type": "code",
   "execution_count": 17,
   "id": "a68d2d80-d16c-4d93-a9f9-6f1f51327b22",
   "metadata": {},
   "outputs": [
    {
     "data": {
      "text/plain": [
       "{'value': tensor([[-0.2908],\n",
       "         [-0.1060],\n",
       "         [ 0.5033]], grad_fn=<TanhBackward0>),\n",
       " 'policy': tensor([[0.1627, 0.1361, 0.1534, 0.1420, 0.1378, 0.1404, 0.1276],\n",
       "         [0.1235, 0.1305, 0.1223, 0.1587, 0.1723, 0.1850, 0.1077],\n",
       "         [0.1666, 0.1285, 0.1737, 0.1569, 0.1328, 0.1655, 0.0761]],\n",
       "        grad_fn=<ViewBackward0>)}"
      ]
     },
     "execution_count": 17,
     "metadata": {},
     "output_type": "execute_result"
    }
   ],
   "source": [
    "predictions"
   ]
  },
  {
   "cell_type": "code",
   "execution_count": 29,
   "id": "88d7303a-5760-4e99-b019-4924969a6405",
   "metadata": {},
   "outputs": [
    {
     "name": "stdout",
     "output_type": "stream",
     "text": [
      "TreeNode: {totalReward: -2.5255919210612774, numVisits: 231, isTerminal: False, possibleActions: dict_keys([(0, -1), (1, -1), (2, -1), (3, -1), (4, -1), (5, -1), (6, -1)])}\n",
      "TreeNode: {totalReward: -3.070866836234927, numVisits: 225, isTerminal: False, possibleActions: dict_keys([(0, -1), (1, -1), (2, -1), (3, -1), (4, -1), (5, -1), (6, -1)])}\n",
      "TreeNode: {totalReward: -2.4534287713468075, numVisits: 206, isTerminal: False, possibleActions: dict_keys([(0, -1), (1, -1), (2, -1), (3, -1), (4, -1), (5, -1), (6, -1)])}\n",
      "TreeNode: {totalReward: -2.9527796413749456, numVisits: 232, isTerminal: False, possibleActions: dict_keys([(0, -1), (1, -1), (2, -1), (3, -1), (4, -1), (5, -1), (6, -1)])}\n",
      "TreeNode: {totalReward: -2.317623296752572, numVisits: 192, isTerminal: False, possibleActions: dict_keys([(0, -1), (1, -1), (2, -1), (3, -1), (4, -1), (5, -1), (6, -1)])}\n",
      "TreeNode: {totalReward: -1.710265887901187, numVisits: 185, isTerminal: False, possibleActions: dict_keys([(0, -1), (1, -1), (2, -1), (3, -1), (4, -1), (5, -1), (6, -1)])}\n",
      "TreeNode: {totalReward: -1.7881176061928272, numVisits: 176, isTerminal: False, possibleActions: dict_keys([(0, -1), (1, -1), (2, -1), (3, -1), (4, -1), (5, -1), (6, -1)])}\n",
      "(1, 1)\n",
      "-0.01364829704993301\n",
      "[0.15964064 0.15549413 0.14236351 0.16033172 0.13268832 0.12785073\n",
      " 0.12163096]\n"
     ]
    }
   ],
   "source": [
    "searcher = MCTS_custom(time_limit=10000, neural_net=TestNet)\n",
    "best_action, reward, all_values = searcher.search(initial_state=initial_state, return_probabilities=True)\n",
    "print(best_action)\n",
    "print(reward)\n",
    "print(all_values)"
   ]
  },
  {
   "cell_type": "code",
   "execution_count": 5,
   "id": "ec241d9e-c61b-48e8-ac83-6bb4ad0be3a7",
   "metadata": {},
   "outputs": [
    {
     "ename": "AttributeError",
     "evalue": "'numpy.ndarray' object has no attribute 'items'",
     "output_type": "error",
     "traceback": [
      "\u001B[0;31m---------------------------------------------------------------------------\u001B[0m",
      "\u001B[0;31mAttributeError\u001B[0m                            Traceback (most recent call last)",
      "Cell \u001B[0;32mIn[5], line 1\u001B[0m\n\u001B[0;32m----> 1\u001B[0m \u001B[38;5;28;01mfor\u001B[39;00m node, value \u001B[38;5;129;01min\u001B[39;00m \u001B[43mall_values\u001B[49m\u001B[38;5;241;43m.\u001B[39;49m\u001B[43mitems\u001B[49m():\n\u001B[1;32m      2\u001B[0m     \u001B[38;5;28mprint\u001B[39m(node, value)\n",
      "\u001B[0;31mAttributeError\u001B[0m: 'numpy.ndarray' object has no attribute 'items'"
     ]
    }
   ],
   "source": [
    "for node, value in all_values.items():\n",
    "    print(node, value)"
   ]
  },
  {
   "cell_type": "code",
   "execution_count": 9,
   "id": "3b1f805d-b7f0-4dfa-96c6-41ce32e1251c",
   "metadata": {},
   "outputs": [],
   "source": [
    "TestNet = CFNet.CFNet()\n",
    "TestNet.eval();"
   ]
  },
  {
   "cell_type": "code",
   "execution_count": 11,
   "id": "8a774266-ff49-4d35-bd7f-293b93362504",
   "metadata": {},
   "outputs": [],
   "source": [
    "middle_move_played = ConnectFour()\n",
    "middle_move_played.make_move(3);"
   ]
  },
  {
   "cell_type": "code",
   "execution_count": 21,
   "id": "67893214-af21-4446-844e-bb466a4f3a79",
   "metadata": {},
   "outputs": [],
   "source": [
    "value, policy = TestNet(middle_move_played).items()"
   ]
  },
  {
   "cell_type": "code",
   "execution_count": 23,
   "id": "9d1930d1-291b-40bd-842f-1e9e6ded33d0",
   "metadata": {},
   "outputs": [
    {
     "name": "stdout",
     "output_type": "stream",
     "text": [
      "('value', tensor([[-0.0085]], grad_fn=<TanhBackward0>))\n"
     ]
    }
   ],
   "source": [
    "print(value)"
   ]
  },
  {
   "cell_type": "code",
   "execution_count": 32,
   "id": "e65e59ec-49fc-4f89-a37c-5953196e0a76",
   "metadata": {},
   "outputs": [],
   "source": [
    "initial_state_tensor = CFNet.state_to_tensor(initial_state)\n",
    "middle_move_played_tensor = CFNet.state_to_tensor(middle_move_played)\n",
    "batch = torch.stack((initial_state_tensor, middle_move_played_tensor))"
   ]
  },
  {
   "cell_type": "code",
   "execution_count": 47,
   "id": "d2bc1d4a-41b3-4393-96c6-32576d57363a",
   "metadata": {},
   "outputs": [
    {
     "name": "stdout",
     "output_type": "stream",
     "text": [
      "(array([[0, 0, 0, 0, 0, 0, 0],\n",
      "       [0, 0, 0, 0, 0, 0, 0],\n",
      "       [0, 0, 0, 0, 0, 0, 0],\n",
      "       [0, 0, 0, 0, 0, 0, 0],\n",
      "       [0, 0, 0, 0, 0, 0, 0],\n",
      "       [0, 0, 0, 0, 0, 0, 0]]), 'Turn: Player 1')\n"
     ]
    }
   ],
   "source": [
    "print(state)"
   ]
  },
  {
   "cell_type": "code",
   "execution_count": 40,
   "id": "9efa74bf-2757-491a-9394-d4a8a68557f9",
   "metadata": {},
   "outputs": [
    {
     "name": "stdout",
     "output_type": "stream",
     "text": [
      "{'value': tensor([[-0.4966],\n",
      "        [ 0.1615]]), 'policy': tensor([[0.1275, 0.1732, 0.1746, 0.1070, 0.1363, 0.1447, 0.1369],\n",
      "        [0.0799, 0.2396, 0.0963, 0.1086, 0.1199, 0.2453, 0.1105]])}\n"
     ]
    }
   ],
   "source": [
    "TestNet.train()\n",
    "with torch.no_grad():\n",
    "    estimation = TestNet(batch)\n",
    "print(estimation)"
   ]
  },
  {
   "cell_type": "code",
   "execution_count": 24,
   "id": "fdaf7012-abed-4b4c-b89b-327a65000ee9",
   "metadata": {},
   "outputs": [
    {
     "data": {
      "text/plain": [
       "array([0.1428942 , 0.14715682, 0.13663006, 0.14000586, 0.1309952 ,\n",
       "       0.14751084, 0.15480699], dtype=float32)"
      ]
     },
     "execution_count": 24,
     "metadata": {},
     "output_type": "execute_result"
    }
   ],
   "source": [
    "estimation['policy'].detach().numpy()[0]"
   ]
  },
  {
   "cell_type": "code",
   "execution_count": 16,
   "id": "fe39f4a9-7055-4ce0-8c02-1ea495d19889",
   "metadata": {},
   "outputs": [
    {
     "name": "stdout",
     "output_type": "stream",
     "text": [
      "tensor([ 0.1250,  0.4286,  0.2727, -0.5000, -0.2000, -0.2000,  0.5333])\n",
      "tensor([0.1429, 0.1936, 0.1656, 0.0765, 0.1032, 0.1032, 0.2149])\n"
     ]
    }
   ],
   "source": [
    "values = [value[1] for value in all_values]\n",
    "softmax = torch.nn.Softmax(dim=-1)\n",
    "input = torch.Tensor(values)\n",
    "print(input)\n",
    "output = softmax(input)\n",
    "print(output)"
   ]
  },
  {
   "cell_type": "code",
   "execution_count": 25,
   "id": "bb26533e-f55c-4764-9bf2-fd5fbdb0de61",
   "metadata": {},
   "outputs": [],
   "source": [
    "winning_move = ConnectFour.ConnectFour()\n",
    "for _ in range(3):\n",
    "    winning_move.make_move(3)\n",
    "    winning_move.make_move(0)"
   ]
  },
  {
   "cell_type": "code",
   "execution_count": 30,
   "id": "39ccfea5-f08f-43cd-888a-e6f8d59390e1",
   "metadata": {},
   "outputs": [],
   "source": [
    "searcher = MCTS_custom(time_limit=10000)\n",
    "best_action, reward, all_values = searcher.search(initial_state=winning_move, need_details=True, return_probabilities=True)"
   ]
  },
  {
   "cell_type": "code",
   "execution_count": 31,
   "id": "f70df62c-ff3e-4710-87be-9c538056e1a9",
   "metadata": {},
   "outputs": [
    {
     "name": "stdout",
     "output_type": "stream",
     "text": [
      "(3, 1)\n",
      "1.0\n"
     ]
    }
   ],
   "source": [
    "print(best_action)\n",
    "print(reward)"
   ]
  },
  {
   "cell_type": "code",
   "execution_count": 32,
   "id": "04cb192c-5ce3-4ec9-ae27-10814063278d",
   "metadata": {},
   "outputs": [
    {
     "name": "stdout",
     "output_type": "stream",
     "text": [
      "tensor([ 0.7412, -0.1250, -0.1250,  1.0000, -0.2000, -0.1250, -0.2000])\n",
      "tensor([0.2306, 0.0970, 0.0970, 0.2987, 0.0900, 0.0970, 0.0900])\n"
     ]
    }
   ],
   "source": [
    "values = [value[1] for value in all_values]\n",
    "softmax = torch.nn.Softmax(dim=0)\n",
    "input = torch.Tensor(values)\n",
    "print(input)\n",
    "output = softmax(input)\n",
    "print(output)"
   ]
  },
  {
   "cell_type": "code",
   "execution_count": null,
   "id": "8ad358c3-8a08-4672-ad7c-4e33bbdf0a4a",
   "metadata": {},
   "outputs": [],
   "source": []
  }
 ],
 "metadata": {
  "kernelspec": {
   "display_name": "env_master",
   "language": "python",
   "name": "env_master"
  },
  "language_info": {
   "codemirror_mode": {
    "name": "ipython",
    "version": 3
   },
   "file_extension": ".py",
   "mimetype": "text/x-python",
   "name": "python",
   "nbconvert_exporter": "python",
   "pygments_lexer": "ipython3",
   "version": "3.8.10"
  }
 },
 "nbformat": 4,
 "nbformat_minor": 5
}
